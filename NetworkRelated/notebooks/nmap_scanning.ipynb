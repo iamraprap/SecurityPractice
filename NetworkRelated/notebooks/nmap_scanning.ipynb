{
 "cells": [
  {
   "cell_type": "code",
   "execution_count": 1,
   "metadata": {},
   "outputs": [],
   "source": [
    "import nmap"
   ]
  },
  {
   "cell_type": "code",
   "execution_count": 2,
   "metadata": {},
   "outputs": [
    {
     "data": {
      "text/plain": [
       "(7, 70)"
      ]
     },
     "execution_count": 2,
     "metadata": {},
     "output_type": "execute_result"
    }
   ],
   "source": [
    "nm = nmap.PortScanner()\n",
    "nm.nmap_version()"
   ]
  },
  {
   "cell_type": "code",
   "execution_count": 3,
   "metadata": {},
   "outputs": [
    {
     "data": {
      "text/plain": [
       "False"
      ]
     },
     "execution_count": 3,
     "metadata": {},
     "output_type": "execute_result"
    }
   ],
   "source": [
    "nm.scan('127.0.0.1', '22-443') # scan host 127.0.0.1, ports from 22 to 443\n",
    "nm.command_line() # get command line used for the scan : nmap -oX - -p 22-443 127.0.0.1\n",
    "nm.scaninfo() # get nmap scan informations {'tcp': {'services': '22-443', 'method': 'connect'}}\n",
    "nm.all_hosts() # get all hosts that were scanned\n",
    "nm['127.0.0.1'].hostname() # get one hostname for host 127.0.0.1, usualy the user record\n",
    "nm['127.0.0.1'].hostnames() # get list of hostnames for host 127.0.0.1 as a list of dict\n",
    "# [{'name':'hostname1', 'type':'PTR'}, {'name':'hostname2', 'type':'user'}]\n",
    "nm['127.0.0.1'].hostname() # get hostname for host 127.0.0.1\n",
    "nm['127.0.0.1'].state() # get state of host 127.0.0.1 (up|down|unknown|skipped)\n",
    "nm['127.0.0.1'].all_protocols() # get all scanned protocols ['tcp', 'udp'] in (ip|tcp|udp|sctp)\n",
    "#nm['127.0.0.1']['tcp'].keys() # get all ports for tcp protocol\n",
    "nm['127.0.0.1'].all_tcp() # get all ports for tcp protocol (sorted version)\n",
    "nm['127.0.0.1'].all_udp() # get all ports for udp protocol (sorted version)\n",
    "nm['127.0.0.1'].all_ip() # get all ports for ip protocol (sorted version)\n",
    "nm['127.0.0.1'].all_sctp() # get all ports for sctp protocol (sorted version)\n",
    "nm['127.0.0.1'].has_tcp(22) # is there any information for port 22/tcp on host 127.0.0.1\n",
    "#nm['127.0.0.1']['tcp'][22] # get infos about port 22 in tcp on host 127.0.0.1\n",
    "#nm['127.0.0.1'].tcp(22) # get infos about port 22 in tcp on host 127.0.0.1\n",
    "#nm['127.0.0.1']['tcp'][22]['state'] # get state of port 22/tcp on host 127.0.0.1"
   ]
  },
  {
   "cell_type": "code",
   "execution_count": 4,
   "metadata": {},
   "outputs": [
    {
     "name": "stdout",
     "output_type": "stream",
     "text": [
      "----------------------------------------------------\n",
      "Host : 127.0.0.1 (localhost)\n",
      "State : up\n"
     ]
    }
   ],
   "source": [
    "for host in nm.all_hosts():\n",
    "    print('----------------------------------------------------')\n",
    "    print('Host : %s (%s)' % (host, nm[host].hostname()))\n",
    "    print('State : %s' % nm[host].state())"
   ]
  },
  {
   "cell_type": "code",
   "execution_count": 5,
   "metadata": {},
   "outputs": [],
   "source": [
    "for proto in nm[host].all_protocols():\n",
    "    print('----------')\n",
    "    print('Protocol : %s' % proto)"
   ]
  },
  {
   "cell_type": "code",
   "execution_count": 6,
   "metadata": {},
   "outputs": [],
   "source": [
    "for proto in nm[host].all_protocols():\n",
    "    print('----------')\n",
    "    print('Protocol : %s' % proto)"
   ]
  },
  {
   "cell_type": "code",
   "execution_count": 7,
   "metadata": {},
   "outputs": [
    {
     "name": "stdout",
     "output_type": "stream",
     "text": [
      "192.168.1.1:up\n",
      "192.168.1.11:up\n",
      "192.168.1.12:up\n",
      "192.168.1.19:up\n",
      "192.168.1.251:up\n",
      "192.168.1.252:up\n",
      "192.168.1.7:up\n",
      "192.168.1.9:up\n"
     ]
    }
   ],
   "source": [
    "# If you want to do a pingsweep on network 192.168.1.0/24:\n",
    "nm.scan(hosts='192.168.1.0/24', arguments='-n -sP -PE -PA21,23,80,3389,9050')\n",
    "hosts_list = [(x, nm[x]['status']['state']) for x in nm.all_hosts()]\n",
    "for host, status in hosts_list:\n",
    "    print('{0}:{1}'.format(host, status))"
   ]
  },
  {
   "cell_type": "code",
   "execution_count": null,
   "metadata": {},
   "outputs": [],
   "source": []
  }
 ],
 "metadata": {
  "kernelspec": {
   "display_name": "Python 3",
   "language": "python",
   "name": "python3"
  },
  "language_info": {
   "codemirror_mode": {
    "name": "ipython",
    "version": 3
   },
   "file_extension": ".py",
   "mimetype": "text/x-python",
   "name": "python",
   "nbconvert_exporter": "python",
   "pygments_lexer": "ipython3",
   "version": "3.6.6"
  }
 },
 "nbformat": 4,
 "nbformat_minor": 2
}
