{
 "cells": [
  {
   "cell_type": "code",
   "execution_count": 10,
   "metadata": {},
   "outputs": [],
   "source": [
    "from scapy.all import *\n",
    "from IPython.display import IFrame"
   ]
  },
  {
   "cell_type": "code",
   "execution_count": 4,
   "metadata": {},
   "outputs": [
    {
     "name": "stdout",
     "output_type": "stream",
     "text": [
      "Begin emission:\n",
      "Finished sending 160 packets.\n",
      "Begin emission:\n",
      "Finished sending 4 packets.\n",
      "Begin emission:\n",
      "Finished sending 2 packets.\n",
      "Begin emission:\n",
      "Finished sending 2 packets.\n",
      "\n",
      "Received 160 packets, got 158 answers, remaining 2 packets\n",
      "   172.217.4.196:tcp443 172.217.4.196:tcp80 23.222.157.110:tcp443 23.222.157.110:tcp80 23.74.68.222:tcp443 23.74.68.222:tcp80 31.13.76.70:tcp443 31.13.76.70:tcp80  \n",
      "1  192.168.1.1     11   192.168.1.1     11  192.168.1.1     11    192.168.1.1     11   192.168.1.1     11  192.168.1.1     11 192.168.1.1     11 192.168.1.1     11 \n",
      "2  50.35.80.1      11   50.35.80.1      11  50.35.80.1      11    50.35.80.1      11   50.35.80.1      11  50.35.80.1      11 50.35.80.1      11 50.35.80.1      11 \n",
      "3  74.40.70.57     11   74.40.70.57     11  74.40.70.57     11    74.40.70.57     11   74.40.70.57     11  74.40.70.57     11 74.40.70.57     11 74.40.70.57     11 \n",
      "4  74.40.1.101     11   74.40.1.101     11  74.40.1.101     11    74.40.1.101     11   74.40.1.101     11  74.40.1.101     11 74.40.1.101     11 74.40.1.101     11 \n",
      "5  74.40.5.126     11   74.40.5.126     11  74.40.5.126     11    74.40.5.126     11   74.40.5.126     11  74.40.5.126     11 74.40.5.126     11 74.40.5.126     11 \n",
      "6  74.40.26.131    11   74.40.26.131    11  -                     -                    206.81.80.113   11  206.81.80.113   11 157.240.64.126  11 157.240.64.126  11 \n",
      "7  108.170.245.108 11   108.170.245.108 11  23.222.157.110  SA    23.222.157.110  SA   23.74.68.222    SA  23.74.68.222    SA 173.252.65.145  11 173.252.65.9    11 \n",
      "8  108.170.232.70  11   108.170.232.70  11  23.222.157.110  SA    23.222.157.110  SA   23.74.68.222    SA  23.74.68.222    SA 173.252.67.69   11 173.252.67.131  11 \n",
      "9  216.239.46.126  11   216.239.46.126  11  23.222.157.110  SA    23.222.157.110  SA   23.74.68.222    SA  23.74.68.222    SA 31.13.76.70     SA 31.13.76.70     SA \n",
      "10 209.85.241.122  11   216.239.63.32   11  23.222.157.110  SA    23.222.157.110  SA   23.74.68.222    SA  23.74.68.222    SA 31.13.76.70     SA 31.13.76.70     SA \n",
      "11 108.170.243.225 11   108.170.244.1   11  23.222.157.110  SA    23.222.157.110  SA   23.74.68.222    SA  23.74.68.222    SA 31.13.76.70     SA 31.13.76.70     SA \n",
      "12 108.170.230.235 11   74.125.251.47   11  23.222.157.110  SA    23.222.157.110  SA   23.74.68.222    SA  23.74.68.222    SA 31.13.76.70     SA 31.13.76.70     SA \n",
      "13 172.217.4.196   SA   172.217.4.196   SA  23.222.157.110  SA    23.222.157.110  SA   23.74.68.222    SA  23.74.68.222    SA 31.13.76.70     SA 31.13.76.70     SA \n",
      "14 172.217.4.196   SA   172.217.4.196   SA  23.222.157.110  SA    23.222.157.110  SA   23.74.68.222    SA  23.74.68.222    SA 31.13.76.70     SA 31.13.76.70     SA \n",
      "15 172.217.4.196   SA   172.217.4.196   SA  23.222.157.110  SA    23.222.157.110  SA   23.74.68.222    SA  23.74.68.222    SA 31.13.76.70     SA 31.13.76.70     SA \n",
      "16 172.217.4.196   SA   172.217.4.196   SA  23.222.157.110  SA    23.222.157.110  SA   23.74.68.222    SA  23.74.68.222    SA 31.13.76.70     SA 31.13.76.70     SA \n",
      "17 172.217.4.196   SA   172.217.4.196   SA  23.222.157.110  SA    23.222.157.110  SA   23.74.68.222    SA  23.74.68.222    SA 31.13.76.70     SA 31.13.76.70     SA \n",
      "18 172.217.4.196   SA   172.217.4.196   SA  23.222.157.110  SA    23.222.157.110  SA   23.74.68.222    SA  23.74.68.222    SA 31.13.76.70     SA 31.13.76.70     SA \n",
      "19 172.217.4.196   SA   172.217.4.196   SA  23.222.157.110  SA    23.222.157.110  SA   23.74.68.222    SA  23.74.68.222    SA 31.13.76.70     SA 31.13.76.70     SA \n",
      "20 172.217.4.196   SA   172.217.4.196   SA  23.222.157.110  SA    23.222.157.110  SA   23.74.68.222    SA  23.74.68.222    SA 31.13.76.70     SA 31.13.76.70     SA \n"
     ]
    }
   ],
   "source": [
    "res, unans = traceroute([\"www.apple.com\",\"www.microsoft.com\",\"www.google.com\",\"www.facebook.com\"],dport=[80,443],maxttl=20,retry=-2)"
   ]
  },
  {
   "cell_type": "code",
   "execution_count": 8,
   "metadata": {},
   "outputs": [],
   "source": [
    "res.graph(type=\"jpg\", target=\"> traceroute.jpg\")"
   ]
  },
  {
   "cell_type": "code",
   "execution_count": 12,
   "metadata": {},
   "outputs": [
    {
     "data": {
      "text/html": [
       "\n",
       "        <iframe\n",
       "            width=\"800\"\n",
       "            height=\"300\"\n",
       "            src=\"traceroute.jpg\"\n",
       "            frameborder=\"0\"\n",
       "            allowfullscreen\n",
       "        ></iframe>\n",
       "        "
      ],
      "text/plain": [
       "<IPython.lib.display.IFrame at 0x1199f0278>"
      ]
     },
     "execution_count": 12,
     "metadata": {},
     "output_type": "execute_result"
    }
   ],
   "source": [
    "IFrame(\"traceroute.jpg\", width=800, height=300)"
   ]
  },
  {
   "cell_type": "code",
   "execution_count": null,
   "metadata": {},
   "outputs": [],
   "source": []
  },
  {
   "cell_type": "code",
   "execution_count": null,
   "metadata": {},
   "outputs": [],
   "source": []
  }
 ],
 "metadata": {
  "kernelspec": {
   "display_name": "Python 3",
   "language": "python",
   "name": "python3"
  },
  "language_info": {
   "codemirror_mode": {
    "name": "ipython",
    "version": 3
   },
   "file_extension": ".py",
   "mimetype": "text/x-python",
   "name": "python",
   "nbconvert_exporter": "python",
   "pygments_lexer": "ipython3",
   "version": "3.6.6"
  }
 },
 "nbformat": 4,
 "nbformat_minor": 2
}
